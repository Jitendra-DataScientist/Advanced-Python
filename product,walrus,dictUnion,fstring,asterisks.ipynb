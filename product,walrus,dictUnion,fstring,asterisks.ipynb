{
 "cells": [
  {
   "cell_type": "code",
   "execution_count": 1,
   "id": "e56fdfd7",
   "metadata": {},
   "outputs": [
    {
     "name": "stdout",
     "output_type": "stream",
     "text": [
      "5\n"
     ]
    }
   ],
   "source": [
    "a = [1,2,5]\n",
    "b = [6,7,5]\n",
    "c = [3,4,5]\n",
    "for x in a:\n",
    "    for y in b:\n",
    "        for z in c:\n",
    "            if x==y and y==z : print (x)"
   ]
  },
  {
   "cell_type": "code",
   "execution_count": 3,
   "id": "bec69241",
   "metadata": {},
   "outputs": [
    {
     "name": "stdout",
     "output_type": "stream",
     "text": [
      "5\n"
     ]
    }
   ],
   "source": [
    "# above code with product()\n",
    "from itertools import product\n",
    "a = [1,2,5]\n",
    "b = [6,7,5]\n",
    "c = [3,4,5]\n",
    "for x,y,z in product(a,b,c):\n",
    "    if x==y and y==z : print (x)"
   ]
  },
  {
   "cell_type": "code",
   "execution_count": 4,
   "id": "42291c0f",
   "metadata": {},
   "outputs": [
    {
     "name": "stdout",
     "output_type": "stream",
     "text": [
      "5\n",
      "5\n"
     ]
    }
   ],
   "source": [
    "# walrus operator (:=)\n",
    "print (a:=5)\n",
    "print(a)"
   ]
  },
  {
   "cell_type": "code",
   "execution_count": 5,
   "id": "3b22a309",
   "metadata": {},
   "outputs": [
    {
     "data": {
      "text/plain": [
       "{'w': 1, 'x': 2, 'y': 3, 'z': 4}"
      ]
     },
     "execution_count": 5,
     "metadata": {},
     "output_type": "execute_result"
    }
   ],
   "source": [
    "# union operators for dictonaries (works only above and on python 3.9)\n",
    "a = {'w':1,'x':2}\n",
    "b = {'y':3,'z':4}\n",
    "a|b"
   ]
  },
  {
   "cell_type": "code",
   "execution_count": 8,
   "id": "e08cf2be",
   "metadata": {},
   "outputs": [
    {
     "data": {
      "text/plain": [
       "{'w': 1, 'x': 2, 'y': 3, 'z': 4}"
      ]
     },
     "execution_count": 8,
     "metadata": {},
     "output_type": "execute_result"
    }
   ],
   "source": [
    "# above example with in-place merging:\n",
    "a = {'w':1,'x':2}\n",
    "b = {'y':3,'z':4}\n",
    "a|=b\n",
    "a"
   ]
  },
  {
   "cell_type": "code",
   "execution_count": 22,
   "id": "dc35084c",
   "metadata": {},
   "outputs": [
    {
     "name": "stdout",
     "output_type": "stream",
     "text": [
      "pi value approx. = 3.14\n",
      "\n",
      "\n",
      "id value is 001\n",
      "\n",
      "\n",
      "his networth is $1,000,000\n",
      "\n",
      "\n",
      "today is : 2022-11-30 09:38:28.345696\n"
     ]
    }
   ],
   "source": [
    "# f-strings\n",
    "pi = 3.1415926\n",
    "print(f'pi value approx. = {pi:.2f}')\n",
    "\n",
    "print('\\n')\n",
    "id = 1\n",
    "print(f\"id value is {id:03d}\")\n",
    "\n",
    "print('\\n')\n",
    "n = 1000000\n",
    "print(f'his networth is ${n:,d}')\n",
    "\n",
    "print('\\n')\n",
    "from datetime import datetime\n",
    "print(f'today is : {datetime.today()}')"
   ]
  },
  {
   "cell_type": "code",
   "execution_count": 23,
   "id": "b4c74c16",
   "metadata": {},
   "outputs": [
    {
     "data": {
      "text/plain": [
       "[1, 2, 3, 4, 5, 6, 8, 9, 7]"
      ]
     },
     "execution_count": 23,
     "metadata": {},
     "output_type": "execute_result"
    }
   ],
   "source": [
    "# asterisks to unpack iterables\n",
    "a = [1,2,3]\n",
    "b = (4,5,6)\n",
    "c = {7,8,9}\n",
    "l = [*a,*b,*c]\n",
    "l"
   ]
  },
  {
   "cell_type": "code",
   "execution_count": 25,
   "id": "99f3ac45",
   "metadata": {},
   "outputs": [
    {
     "name": "stdout",
     "output_type": "stream",
     "text": [
      "[2]\n",
      "\n",
      "\n",
      "[2, 3, 4]\n",
      "\n",
      "\n",
      "[3, 4, 5, 6, 7]\n"
     ]
    }
   ],
   "source": [
    "# another example of asterisks (destructuring)\n",
    "a,*mid,b = [1,2,3]\n",
    "print(mid)\n",
    "\n",
    "print ('\\n')\n",
    "\n",
    "a,*mid,b = [1,2,3,4,5]\n",
    "print(mid)\n",
    "\n",
    "print ('\\n')\n",
    "\n",
    "a,c,*mid,b,e = [1,2,3,4,5,6,7,8,9]\n",
    "print(mid)"
   ]
  }
 ],
 "metadata": {
  "kernelspec": {
   "display_name": "Python 3 (ipykernel)",
   "language": "python",
   "name": "python3"
  },
  "language_info": {
   "codemirror_mode": {
    "name": "ipython",
    "version": 3
   },
   "file_extension": ".py",
   "mimetype": "text/x-python",
   "name": "python",
   "nbconvert_exporter": "python",
   "pygments_lexer": "ipython3",
   "version": "3.9.13"
  }
 },
 "nbformat": 4,
 "nbformat_minor": 5
}
