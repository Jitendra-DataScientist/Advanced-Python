{
 "cells": [
  {
   "cell_type": "code",
   "execution_count": 1,
   "id": "d5b7bf2a",
   "metadata": {},
   "outputs": [],
   "source": [
    "## credits - https://towardsdatascience.com/python-decorators-for-data-science-6913f717669a"
   ]
  },
  {
   "cell_type": "markdown",
   "id": "c8ce4cd5",
   "metadata": {},
   "source": [
    "At first, every developer’s goal is to get things working. Slowly, we worry about readability and scalability. This is when we first start thinking about decorators.\n",
    "\n",
    "Decorators are an excellent way to give additional behavior to a function. And there are little things we data scientists often need to inject into a function definition.\n",
    "\n",
    "With decorators, you’d be surprised to see how much you can reduce code repetition and improve readability."
   ]
  },
  {
   "cell_type": "markdown",
   "id": "d26b6d58",
   "metadata": {},
   "source": [
    "**1. The retry decorator**\n",
    "\n",
    "In data science projects and software development projects, there are so many instances where we depend on external systems. Things are not in our control all the time."
   ]
  },
  {
   "cell_type": "markdown",
   "id": "951e0868",
   "metadata": {},
   "source": [
    "When an unexpected event occurs, we might want our code to wait a while, allowing the external system to correct itself and rerun.\n",
    "\n",
    "I prefer to implement this retry logic inside a python decorator so that I can annotate any function to apply the retry behavior.\n",
    "\n",
    "Here’s the code for a retry decorator."
   ]
  },
  {
   "cell_type": "code",
   "execution_count": 2,
   "id": "d523f6a4",
   "metadata": {},
   "outputs": [
    {
     "data": {
      "text/plain": [
       "<Response [200]>"
      ]
     },
     "execution_count": 2,
     "metadata": {},
     "output_type": "execute_result"
    }
   ],
   "source": [
    "import time\n",
    "from functools import wraps\n",
    "import requests\n",
    "\n",
    "def retry(max_tries=3, delay_seconds=1):\n",
    "    def decorator_retry(func):\n",
    "        @wraps(func)\n",
    "        def wrapper_retry(*args, **kwargs):\n",
    "            tries = 0\n",
    "            while tries < max_tries:\n",
    "                try:\n",
    "                    return func(*args, **kwargs)\n",
    "                except Exception as e:\n",
    "                    tries += 1\n",
    "                    if tries == max_tries:\n",
    "                        raise e\n",
    "                    time.sleep(delay_seconds)\n",
    "        return wrapper_retry\n",
    "    return decorator_retry\n",
    "\n",
    "@retry(max_tries=5, delay_seconds=2)\n",
    "def call_dummy_api():\n",
    "    response = requests.get(\"https://jsonplaceholder.typicode.com/todos/1\")\n",
    "    return response\n",
    "call_dummy_api()"
   ]
  },
  {
   "cell_type": "markdown",
   "id": "290bc1da",
   "metadata": {},
   "source": [
    "In the above code, we try to get an API response. If it fails, we retry the same task 5 times. Between each retry, we wait for 2 seconds.\n",
    "\n",
    "**2. Caching function results**\n",
    "\n",
    "Some parts of our codebase rarely change their behaviors. Yet, it may take a big chunk of our computation power. In such situations, we can use a decorator to cache function calls.\n",
    "\n",
    "The function will run only once if the inputs are the same. In every subsequent run, the results will be pulled from the cache. Hence, we don’t have to perform expensive computations all the time."
   ]
  },
  {
   "cell_type": "code",
   "execution_count": 3,
   "id": "8256520f",
   "metadata": {},
   "outputs": [],
   "source": [
    "def memoize(func):\n",
    "    cache = {}\n",
    "    def wrapper(*args):\n",
    "        if args in cache:\n",
    "            return cache[args]\n",
    "        else:\n",
    "            result = func(*args)\n",
    "            cache[args] = result\n",
    "            return result\n",
    "    return wrapper"
   ]
  },
  {
   "cell_type": "markdown",
   "id": "85bdb4ed",
   "metadata": {},
   "source": [
    "The decorator uses a dictionary, stores the function args, and returns values. When we execute this function, the decorated will check the dictionary for prior results. The actual function is called only when there’s no stored value before.\n",
    "\n",
    "The following is a Fibonacci number calculating a function. Since this is a recurrent function, the same function called is performed multiple times. But with caching, we can speed up this process."
   ]
  },
  {
   "cell_type": "code",
   "execution_count": 4,
   "id": "31dade41",
   "metadata": {},
   "outputs": [
    {
     "data": {
      "text/plain": [
       "21"
      ]
     },
     "execution_count": 4,
     "metadata": {},
     "output_type": "execute_result"
    }
   ],
   "source": [
    "@memoize\n",
    "def fibonacci(n):\n",
    "    if n <= 1:\n",
    "        return n\n",
    "    else:\n",
    "        return fibonacci(n-1) + fibonacci(n-2)\n",
    "\n",
    "fibonacci(8)"
   ]
  },
  {
   "cell_type": "markdown",
   "id": "93dcf597",
   "metadata": {},
   "source": [
    "Here are the execution times for this function with and without caching. Note that the cached version only takes a faction of a millisecond to run, whereas the non-cached version almost took a minute.\n",
    "\n",
    "Function slow_fibonacci took 53.05560088157654 seconds to run.\n",
    "Function fast_fibonacci took 7.772445678710938e-05 seconds to run.\n",
    "\n",
    "Using a dictionary to hold previous execution data is a straightforward approach. However, there is a more sophisticated way to store caching data. You can use an in-memory database, such as Redis.\n",
    "\n",
    "**3. Timing functions**\n",
    "\n",
    "This one is no surprise. When working with data-intensive functions, we’re eager to learn how long it takes to run.\n",
    "\n",
    "The usual way of doing this is by collecting two timestamps, one at the beginning and another at the end of the function. We can then compute the duration and print it along with the return values.\n",
    "\n",
    "But doing this again and again for multiple functions is a hassle.\n",
    "\n",
    "Instead, we can have a decorator do it. We can annotate any function that needs a duration printed.\n",
    "\n",
    "Here’s an example Python decorator that prints the running time of a function when it’s called:"
   ]
  },
  {
   "cell_type": "code",
   "execution_count": 5,
   "id": "1663023c",
   "metadata": {},
   "outputs": [],
   "source": [
    "import time\n",
    "\n",
    "def timing_decorator(func):\n",
    "    def wrapper(*args, **kwargs):\n",
    "        start_time = time.time()\n",
    "        result = func(*args, **kwargs)\n",
    "        end_time = time.time()\n",
    "        print(f\"Function {func.__name__} took {end_time - start_time} seconds to run.\")\n",
    "        return result\n",
    "    return wrapper"
   ]
  },
  {
   "cell_type": "markdown",
   "id": "04b949ee",
   "metadata": {},
   "source": [
    "You can use this decorator to time the execution of a function:"
   ]
  },
  {
   "cell_type": "code",
   "execution_count": 6,
   "id": "f247f653",
   "metadata": {},
   "outputs": [],
   "source": [
    "@timing_decorator\n",
    "def my_function():\n",
    "    # some code here\n",
    "    time.sleep(1)  # simulate some time-consuming operation\n",
    "    return"
   ]
  },
  {
   "cell_type": "markdown",
   "id": "ab891790",
   "metadata": {},
   "source": [
    "Calling the function would print the time it takes to run."
   ]
  },
  {
   "cell_type": "code",
   "execution_count": 7,
   "id": "8a2d8771",
   "metadata": {},
   "outputs": [
    {
     "name": "stdout",
     "output_type": "stream",
     "text": [
      "Function my_function took 1.001922845840454 seconds to run.\n"
     ]
    }
   ],
   "source": [
    "my_function()"
   ]
  },
  {
   "cell_type": "markdown",
   "id": "ff2c0f78",
   "metadata": {},
   "source": [
    "**4. Logging function calls**\n",
    "\n",
    "This one is very much an extension of the previous decorator. But it has some particular uses.\n",
    "\n",
    "If you follow software design principles, you’d appreciate the single responsibility principle. This essentially means each function will have its one and only one responsibility.\n",
    "\n",
    "When you design your code in such a way, you’d also want to log the execution information of your functions. This is where logging decorators come in handy.\n",
    "\n",
    "The following example illustrates this."
   ]
  },
  {
   "cell_type": "code",
   "execution_count": 9,
   "id": "3f1d0d76",
   "metadata": {},
   "outputs": [],
   "source": [
    "import logging\n",
    "import functools\n",
    "\n",
    "logging.basicConfig(level=logging.INFO)\n",
    "\n",
    "def log_execution(func):\n",
    "    @functools.wraps(func)\n",
    "    def wrapper(*args, **kwargs):\n",
    "        logging.info(f\"Executing {func.__name__}\")\n",
    "        result = func(*args, **kwargs)\n",
    "        logging.info(f\"Finished executing {func.__name__}\")\n",
    "        return result\n",
    "    return wrapper"
   ]
  },
  {
   "cell_type": "code",
   "execution_count": null,
   "id": "7bea6027",
   "metadata": {},
   "outputs": [],
   "source": [
    "## code is incomplete at parts, fill them up to execute\n",
    "\n",
    "@log_execution\n",
    "def extract_data(source):\n",
    "    # extract data from source\n",
    "    data = ...\n",
    "\n",
    "    return data\n",
    "\n",
    "@log_execution\n",
    "def transform_data(data):\n",
    "    # transform data\n",
    "    transformed_data = ...\n",
    "\n",
    "    return transformed_data\n",
    "\n",
    "@log_execution\n",
    "def load_data(data, target):\n",
    "    # load data into target\n",
    "    ...\n",
    "\n",
    "def main():\n",
    "    # extract data\n",
    "    data = extract_data(source)\n",
    "\n",
    "    # transform data\n",
    "    transformed_data = transform_data(data)\n",
    "\n",
    "    # load data\n",
    "    load_data(transformed_data, target)\n",
    "    \n",
    "main()"
   ]
  },
  {
   "cell_type": "markdown",
   "id": "6406f487",
   "metadata": {},
   "source": [
    "The above code is a simplified version of an ETL pipeline. We have three separate functions to handle each extract, transform, and load. We have wrapped each of them using our log_execution decorator.\n",
    "\n",
    "Now, whenever the code is executed, you’d see an output similar to this:"
   ]
  },
  {
   "cell_type": "markdown",
   "id": "bf2018af",
   "metadata": {},
   "source": [
    "INFO:root:Executing extract_data\n",
    "\n",
    "INFO:root:Finished executing extract_data\n",
    "\n",
    "INFO:root:Executing transform_data\n",
    "\n",
    "INFO:root:Finished executing transform_data\n",
    "\n",
    "INFO:root:Executing load_data\n",
    "\n",
    "INFO:root:Finished executing load_data"
   ]
  },
  {
   "cell_type": "markdown",
   "id": "32a3a37d",
   "metadata": {},
   "source": [
    "We could also have the execution time printed inside this decorator. But I’d love to have them both in separate decorators. That way, I can choose which one (or both) to use for a function.\n",
    "\n",
    "Here’s how to use multiple decorators on a single function."
   ]
  },
  {
   "cell_type": "code",
   "execution_count": 11,
   "id": "7a91a038",
   "metadata": {},
   "outputs": [
    {
     "name": "stderr",
     "output_type": "stream",
     "text": [
      "INFO:root:Executing wrapper\n",
      "INFO:root:Finished executing wrapper\n"
     ]
    },
    {
     "name": "stdout",
     "output_type": "stream",
     "text": [
      "Function my_function took 1.0008461475372314 seconds to run.\n"
     ]
    },
    {
     "data": {
      "text/plain": [
       "8"
      ]
     },
     "execution_count": 11,
     "metadata": {},
     "output_type": "execute_result"
    }
   ],
   "source": [
    "@log_execution\n",
    "@timing_decorator\n",
    "def my_function(x, y):\n",
    "    time.sleep(1)\n",
    "    return x + y\n",
    "\n",
    "my_function(6, 2)"
   ]
  },
  {
   "cell_type": "markdown",
   "id": "b83500a2",
   "metadata": {},
   "source": [
    "**5. Notification decorator**\n",
    "\n",
    "Finally, a very useful decorator in production systems is the notification decorator.\n",
    "\n",
    "Once again, even with several retries, even a well-tested codebase fails. And when that happens, we need to inform someone about it to take quick action.\n",
    "\n",
    "This isn’t new if you’ve ever built a data pipeline and hoped it would work fine forever.\n",
    "\n",
    "The following decorator sends an email whenever the execution of the inner function fails. It doesn’t have to be an email notification in your case. You can configure it to send a Teams/slack notification."
   ]
  },
  {
   "cell_type": "code",
   "execution_count": null,
   "id": "9b79cb53",
   "metadata": {},
   "outputs": [],
   "source": [
    "import smtplib\n",
    "import traceback\n",
    "from email.mime.text import MIMEText\n",
    "\n",
    "def email_on_failure(sender_email, password, recipient_email):\n",
    "    def decorator(func):\n",
    "        def wrapper(*args, **kwargs):\n",
    "            try:\n",
    "                return func(*args, **kwargs)\n",
    "            except Exception as e:\n",
    "                # format the error message and traceback\n",
    "                err_msg = f\"Error: {str(e)}\\n\\nTraceback:\\n{traceback.format_exc()}\"\n",
    "                \n",
    "                # create the email message\n",
    "                message = MIMEText(err_msg)\n",
    "                message['Subject'] = f\"{func.__name__} failed\"\n",
    "                message['From'] = sender_email\n",
    "                message['To'] = recipient_email\n",
    "                \n",
    "                # send the email\n",
    "                with smtplib.SMTP_SSL('smtp.gmail.com', 465) as smtp:\n",
    "                    smtp.login(sender_email, password)\n",
    "                    smtp.sendmail(sender_email, recipient_email, message.as_string())\n",
    "                    \n",
    "                # re-raise the exception\n",
    "                raise\n",
    "                \n",
    "        return wrapper\n",
    "    \n",
    "    return decorator\n",
    "\n",
    "@email_on_failure(sender_email='your_email@gmail.com', password='your_password', recipient_email='recipient_email@gmail.com')\n",
    "def my_function():\n",
    "    # code that might fail"
   ]
  },
  {
   "cell_type": "code",
   "execution_count": null,
   "id": "0f66022a",
   "metadata": {},
   "outputs": [],
   "source": []
  }
 ],
 "metadata": {
  "kernelspec": {
   "display_name": "Python 3 (ipykernel)",
   "language": "python",
   "name": "python3"
  },
  "language_info": {
   "codemirror_mode": {
    "name": "ipython",
    "version": 3
   },
   "file_extension": ".py",
   "mimetype": "text/x-python",
   "name": "python",
   "nbconvert_exporter": "python",
   "pygments_lexer": "ipython3",
   "version": "3.9.13"
  }
 },
 "nbformat": 4,
 "nbformat_minor": 5
}
