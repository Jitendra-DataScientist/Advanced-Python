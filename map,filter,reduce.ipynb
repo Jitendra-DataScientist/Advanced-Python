{
 "cells": [
  {
   "cell_type": "code",
   "execution_count": 19,
   "id": "bf01172d",
   "metadata": {},
   "outputs": [
    {
     "data": {
      "text/plain": [
       "[4, 5, 6]"
      ]
     },
     "execution_count": 19,
     "metadata": {},
     "output_type": "execute_result"
    }
   ],
   "source": [
    "# map()\n",
    "lst=[1,2,3]\n",
    "lst = list(map(lambda x:x+3,lst))\n",
    "lst"
   ]
  },
  {
   "cell_type": "code",
   "execution_count": 2,
   "id": "f6f6d864",
   "metadata": {},
   "outputs": [
    {
     "data": {
      "text/plain": [
       "[0, 2, 1]"
      ]
     },
     "execution_count": 2,
     "metadata": {},
     "output_type": "execute_result"
    }
   ],
   "source": [
    "# map() with 2 iterables\n",
    "lst=[3,2,4]\n",
    "lst1=[3,4,5]\n",
    "lst3 = list(map(lambda x,y:y-x,lst,lst1))\n",
    "lst3"
   ]
  },
  {
   "cell_type": "code",
   "execution_count": 22,
   "id": "89baef9f",
   "metadata": {},
   "outputs": [
    {
     "data": {
      "text/plain": [
       "[9, 10]"
      ]
     },
     "execution_count": 22,
     "metadata": {},
     "output_type": "execute_result"
    }
   ],
   "source": [
    "# map() for filtering\n",
    "import numpy as np\n",
    "lst=[1,2,9,10,1]\n",
    "lst = list(set(map(lambda x:x if x>3 else None, lst)))\n",
    "lst.remove(None)\n",
    "lst"
   ]
  },
  {
   "cell_type": "code",
   "execution_count": 29,
   "id": "6f147c3a",
   "metadata": {},
   "outputs": [
    {
     "data": {
      "text/plain": [
       "[9, 10]"
      ]
     },
     "execution_count": 29,
     "metadata": {},
     "output_type": "execute_result"
    }
   ],
   "source": [
    "# writing the above cell with filter()\n",
    "lst=[1,2,9,10,1]\n",
    "lst = list(filter(lambda x:x if x>3 else None, lst))\n",
    "lst"
   ]
  },
  {
   "cell_type": "code",
   "execution_count": 30,
   "id": "f3c57d87",
   "metadata": {},
   "outputs": [
    {
     "data": {
      "text/plain": [
       "[9, 10]"
      ]
     },
     "execution_count": 30,
     "metadata": {},
     "output_type": "execute_result"
    }
   ],
   "source": [
    "# another way of filter()\n",
    "def filt(x):\n",
    "    if x>3:return x\n",
    "lst=[1,2,9,10,1]\n",
    "lst = list(filter(filt, lst))\n",
    "lst"
   ]
  },
  {
   "cell_type": "code",
   "execution_count": 32,
   "id": "e37aaa7a",
   "metadata": {},
   "outputs": [
    {
     "data": {
      "text/plain": [
       "[9, 10]"
      ]
     },
     "execution_count": 32,
     "metadata": {},
     "output_type": "execute_result"
    }
   ],
   "source": [
    "# another way of filter()  # perhaps the best\n",
    "lst=[1,2,9,10,1]\n",
    "lst = list(filter(lambda x:x>3, lst))\n",
    "lst"
   ]
  },
  {
   "cell_type": "code",
   "execution_count": 35,
   "id": "48f13bea",
   "metadata": {},
   "outputs": [
    {
     "data": {
      "text/plain": [
       "6"
      ]
     },
     "execution_count": 35,
     "metadata": {},
     "output_type": "execute_result"
    }
   ],
   "source": [
    "from functools import reduce\n",
    "lst = [1,2,3]\n",
    "reduce(lambda a,b:a+b,lst)"
   ]
  }
 ],
 "metadata": {
  "kernelspec": {
   "display_name": "Python 3 (ipykernel)",
   "language": "python",
   "name": "python3"
  },
  "language_info": {
   "codemirror_mode": {
    "name": "ipython",
    "version": 3
   },
   "file_extension": ".py",
   "mimetype": "text/x-python",
   "name": "python",
   "nbconvert_exporter": "python",
   "pygments_lexer": "ipython3",
   "version": "3.9.13"
  }
 },
 "nbformat": 4,
 "nbformat_minor": 5
}
