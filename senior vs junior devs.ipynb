{
 "cells": [
  {
   "cell_type": "code",
   "execution_count": 1,
   "id": "55e86dc6",
   "metadata": {},
   "outputs": [],
   "source": [
    "## https://towardsdatascience.com/5-python-tricks-that-distinguish-senior-developers-from-juniors-826d57ab3940"
   ]
  },
  {
   "cell_type": "markdown",
   "id": "4af75c70",
   "metadata": {},
   "source": [
    "**1. Read in a file effectively with comprehensions and splits.**\n",
    "\n",
    "On Day1 of AoC it is required to read in several blocks of numbers. Each block is separated by an empty line\n",
    "(thus actually '\\n’)."
   ]
  },
  {
   "cell_type": "code",
   "execution_count": 4,
   "id": "7ad4aeee",
   "metadata": {},
   "outputs": [],
   "source": [
    "# INPUT:\n",
    "# 10\n",
    "# 20\n",
    "# 30\n",
    "\n",
    "# 50\n",
    "# 60\n",
    "# 70\n",
    "\n",
    "# DESIRED OUTPUT:\n",
    "# [[10, 20, 30], [50, 60 70]]"
   ]
  },
  {
   "cell_type": "code",
   "execution_count": 6,
   "id": "bb7eacf5",
   "metadata": {},
   "outputs": [
    {
     "name": "stdout",
     "output_type": "stream",
     "text": [
      "[[10, 20, 30], [40, 50, 60]]\n"
     ]
    }
   ],
   "source": [
    "## naive way\n",
    "numbers = []\n",
    "with open(\"file.txt\") as f:\n",
    "    group = []\n",
    "    for line in f:\n",
    "        if line == \"\\n\":\n",
    "            numbers.append(group)\n",
    "            group = []\n",
    "        else:\n",
    "            group.append(int(line.rstrip()))\n",
    "#     append the last group because if line == \"\\n\" will not be True for\n",
    "#     the last group\n",
    "    numbers.append(group)\n",
    "print (numbers)"
   ]
  },
  {
   "cell_type": "code",
   "execution_count": 7,
   "id": "1f8310e1",
   "metadata": {},
   "outputs": [
    {
     "name": "stdout",
     "output_type": "stream",
     "text": [
      "[[10, 20, 30], [40, 50, 60]]\n"
     ]
    }
   ],
   "source": [
    "## better way\n",
    "with open(\"file.txt\") as f:\n",
    "    # split input into groups based on empty lines\n",
    "    groups = f.read().rstrip().split(\"\\n\\n\")\n",
    "    # convert all the values in the groups into integers\n",
    "    nums = [list(map(int, (group.split()))) for group in groups]\n",
    "print (nums)"
   ]
  },
  {
   "cell_type": "markdown",
   "id": "df580329",
   "metadata": {},
   "source": [
    "**2. Use Enum instead of if-elif-else**\n",
    "\n",
    "On Day2 the challenge revolves around a game of rock-paper-scissors. A different chosen shape (rock, paper, or scissors) results in a different amount of points: 1 (X), 2 (Y), and 3 (Z) respectively. Here below are two approaches to tackle this problem."
   ]
  },
  {
   "cell_type": "code",
   "execution_count": 8,
   "id": "45ee1b1e",
   "metadata": {},
   "outputs": [],
   "source": [
    "# INPUT\n",
    "# X\n",
    "# Y\n",
    "# Z\n",
    "\n",
    "# DESIRED OUTPUT\n",
    "# 1\n",
    "# 2\n",
    "# 3"
   ]
  },
  {
   "cell_type": "code",
   "execution_count": 9,
   "id": "b56132aa",
   "metadata": {},
   "outputs": [
    {
     "data": {
      "text/plain": [
       "1"
      ]
     },
     "execution_count": 9,
     "metadata": {},
     "output_type": "execute_result"
    }
   ],
   "source": [
    "## naive way\n",
    "def points_per_shape(shape: str) -> int:\n",
    "    if shape == 'X':\n",
    "        return 1\n",
    "    elif shape == 'Y':\n",
    "        return 2\n",
    "    elif shape == 'Z':\n",
    "        return 3\n",
    "    else:\n",
    "        raise ValueError('Invalid shape')\n",
    "        \n",
    "points_per_shape('X')"
   ]
  },
  {
   "cell_type": "code",
   "execution_count": 10,
   "id": "67d60a51",
   "metadata": {},
   "outputs": [
    {
     "data": {
      "text/plain": [
       "1"
      ]
     },
     "execution_count": 10,
     "metadata": {},
     "output_type": "execute_result"
    }
   ],
   "source": [
    "## better way\n",
    "from enum import Enum\n",
    "\n",
    "class ShapePoints(Enum):\n",
    "    X = 1\n",
    "    Y = 2\n",
    "    Z = 3\n",
    "\n",
    "def points_per_shape(shape: str) -> int:\n",
    "    return ShapePoints[shape].value\n",
    "\n",
    "points_per_shape('X')"
   ]
  },
  {
   "cell_type": "markdown",
   "id": "104115ec",
   "metadata": {},
   "source": [
    "**3. Use lookup tables instead of dictionaries**\n",
    "\n",
    "In Day3 letters have different values. Lowercase a-z has values 1 through 26, and uppercase a-z has values 27 through 52. Because of the many different possible values, using Enum like here above would result in many lines of code. A more practical approach here is to use a lookup table:"
   ]
  },
  {
   "cell_type": "code",
   "execution_count": 12,
   "id": "ad88a8fd",
   "metadata": {},
   "outputs": [],
   "source": [
    "# INPUT\n",
    "# c\n",
    "# Z\n",
    "# a\n",
    "# ...\n",
    "\n",
    "# DESIRED OUPUT\n",
    "# 3\n",
    "# 52\n",
    "# 1\n",
    "# ..."
   ]
  },
  {
   "cell_type": "code",
   "execution_count": 13,
   "id": "5a954bf5",
   "metadata": {},
   "outputs": [
    {
     "data": {
      "text/plain": [
       "26"
      ]
     },
     "execution_count": 13,
     "metadata": {},
     "output_type": "execute_result"
    }
   ],
   "source": [
    "## naive way\n",
    "letters = 'abcdefghijklmnopqrstuvwxyzABCDEFGHIJKLMNOPQRSTUVWXYZ'\n",
    "letter_dict = dict()\n",
    "for value, letter in enumerate(letters, start=1):\n",
    "    letter_dict[letter] = value\n",
    "\n",
    "def letter_value(ltr: str) -> int:\n",
    "    return letter_dict[ltr]\n",
    "\n",
    "letter_value('z')"
   ]
  },
  {
   "cell_type": "code",
   "execution_count": 15,
   "id": "8678fd14",
   "metadata": {},
   "outputs": [
    {
     "data": {
      "text/plain": [
       "26"
      ]
     },
     "execution_count": 15,
     "metadata": {},
     "output_type": "execute_result"
    }
   ],
   "source": [
    "## better way\n",
    "def letter_value(ltr: str) -> int:\n",
    "    return 'abcdefghijklmnopqrstuvwxyzABCDEFGHIJKLMNOPQRSTUVWXYZ'.index(ltr) + 1\n",
    "\n",
    "letter_value('z')"
   ]
  },
  {
   "cell_type": "code",
   "execution_count": 16,
   "id": "d5c45fda",
   "metadata": {},
   "outputs": [],
   "source": [
    "## As you might have thought by now, yes, we could also solve the rock, paper scissors task using a lookup table:\n",
    "def points_per_shape(shape: str) -> int:\n",
    "    return 'XYZ'.index(shape) + 1"
   ]
  },
  {
   "cell_type": "markdown",
   "id": "00665a95",
   "metadata": {},
   "source": [
    "**4. Advanced slicing**\n",
    "\n",
    "On Day5 it is required to read letters from lines (see input below). Each letter is on a fourth index, starting from index 1. Now, virtually every Python programmer will be familiar with string and list slicing using e.g. list_[10:20] . But what many people don’t know is that you can define step size using e.g. list_[10:20:2] to define a step size of 2. On Day5 (and in many other coding situations) this could save you a lot of unnecessarily complicated code:"
   ]
  },
  {
   "cell_type": "code",
   "execution_count": 17,
   "id": "6eeadd5f",
   "metadata": {},
   "outputs": [],
   "source": [
    "# INPUT\n",
    "#     [D]    \n",
    "# [N] [C]    \n",
    "# [Z] [M] [P]\n",
    "\n",
    "# DESIRED OUTPUT\n",
    "# [' D ', 'NC', 'ZMP']"
   ]
  },
  {
   "cell_type": "code",
   "execution_count": 21,
   "id": "0c1c23d9",
   "metadata": {},
   "outputs": [
    {
     "name": "stdout",
     "output_type": "stream",
     "text": [
      "[' D ', 'NC ', 'ZMP']\n"
     ]
    }
   ],
   "source": [
    "## naive way\n",
    "letters = []\n",
    "with open('input.txt') as f:\n",
    "    for line in f:\n",
    "        row = ''\n",
    "        for index in range(1, len(line), 4):\n",
    "            row += line[index]\n",
    "        letters.append(row)\n",
    "    \n",
    "print (letters)"
   ]
  },
  {
   "cell_type": "code",
   "execution_count": 22,
   "id": "8d8dc076",
   "metadata": {},
   "outputs": [
    {
     "name": "stdout",
     "output_type": "stream",
     "text": [
      "[' D ', 'NC ', 'ZMP']\n"
     ]
    }
   ],
   "source": [
    "## better way\n",
    "with open('input.txt') as f:\n",
    "    letters = [line[1::4] for line in f]\n",
    "\n",
    "print (letters)"
   ]
  },
  {
   "cell_type": "markdown",
   "id": "f7f38e8a",
   "metadata": {},
   "source": [
    "**5. Use a class attribute to store class instances**\n",
    "\n",
    "On Day11 a situation is described in which monkies pass objects to each other. In order to simplify we’ll pretend that they’re simply passing bananas to each other. Each monkey can be represented as an instance of a Python class with their id and their amount of bananas as instance attributes. However, there are many monkeys and they need to be able to interact with each other. A trick to store all the monkeys and for them to be able to interact with each other is to define a dictionary with all Monkey instances as a class attribute of the Monkey class. Using Monkey.monkeys[id] you can access all existing monkies without the need of a Monkies class or an external dictionary:"
   ]
  },
  {
   "cell_type": "code",
   "execution_count": 24,
   "id": "28a8db9d",
   "metadata": {},
   "outputs": [
    {
     "name": "stdout",
     "output_type": "stream",
     "text": [
      "2\n",
      "4\n"
     ]
    }
   ],
   "source": [
    "class Monkey:\n",
    "    monkeys: dict = dict()\n",
    "\n",
    "    def __init__(self, id: int):\n",
    "        self.id = id\n",
    "        self.bananas = 3\n",
    "        Monkey.monkeys[id] = self\n",
    "  \n",
    "    def pass_banana(self, to_id: int):\n",
    "        Monkey.monkeys[to_id].bananas += 1\n",
    "        self.bananas -= 1\n",
    "\n",
    "Monkey(1)\n",
    "Monkey(2)\n",
    "Monkey.monkeys[1].pass_banana(to_id=2)\n",
    "\n",
    "\n",
    "print(Monkey.monkeys[1].bananas)\n",
    "print(Monkey.monkeys[2].bananas)"
   ]
  },
  {
   "cell_type": "markdown",
   "id": "c34a5845",
   "metadata": {},
   "source": [
    "**6. Self-documenting expressions (BONUS)**\n",
    "\n",
    "This trick is applicable virtually every time you write a Python program. Instead of defining in an f-string what you are printing (e.g.\n",
    "print(f\"x = {x}\") you can use print(f\"{x = }”) to print the value with a specification of what you are printing."
   ]
  },
  {
   "cell_type": "code",
   "execution_count": 27,
   "id": "b7ed11a8",
   "metadata": {},
   "outputs": [],
   "source": [
    "# INPUT\n",
    "x = 10 * 2\n",
    "y = 3 * 7\n",
    "\n",
    "# max(x,y)\n",
    "\n",
    "# DESIRED OUTPUT\n",
    "# x = 20\n",
    "# y = 21\n",
    "\n",
    "# max(x,y) = 21"
   ]
  },
  {
   "cell_type": "code",
   "execution_count": 28,
   "id": "6cf45590",
   "metadata": {},
   "outputs": [
    {
     "name": "stdout",
     "output_type": "stream",
     "text": [
      "x = 20\n",
      "y = 21\n",
      "max(x,y) = 21\n"
     ]
    }
   ],
   "source": [
    "## naive way\n",
    "print(f\"x = {x}\")\n",
    "print(f\"y = {y}\")\n",
    "\n",
    "print(f\"max(x,y) = {max(x,y)}\")"
   ]
  },
  {
   "cell_type": "code",
   "execution_count": 29,
   "id": "9c5d041b",
   "metadata": {},
   "outputs": [
    {
     "name": "stdout",
     "output_type": "stream",
     "text": [
      "x = 20\n",
      "y = 21\n",
      "max(x,y) = 21\n"
     ]
    }
   ],
   "source": [
    "## better way\n",
    "print(f\"{x = }\")\n",
    "print(f\"{y = }\")\n",
    "\n",
    "print(f\"{max(x,y) = }\")"
   ]
  },
  {
   "cell_type": "code",
   "execution_count": null,
   "id": "51927006",
   "metadata": {},
   "outputs": [],
   "source": []
  }
 ],
 "metadata": {
  "kernelspec": {
   "display_name": "Python 3 (ipykernel)",
   "language": "python",
   "name": "python3"
  },
  "language_info": {
   "codemirror_mode": {
    "name": "ipython",
    "version": 3
   },
   "file_extension": ".py",
   "mimetype": "text/x-python",
   "name": "python",
   "nbconvert_exporter": "python",
   "pygments_lexer": "ipython3",
   "version": "3.9.13"
  }
 },
 "nbformat": 4,
 "nbformat_minor": 5
}
