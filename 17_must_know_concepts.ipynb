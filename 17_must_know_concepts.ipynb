{
 "cells": [
  {
   "cell_type": "markdown",
   "id": "7ec89d25",
   "metadata": {},
   "source": [
    "# **1) Tuple Unpacking + Tuple Unpacking With ***"
   ]
  },
  {
   "cell_type": "code",
   "execution_count": 1,
   "id": "ecd3a490",
   "metadata": {},
   "outputs": [
    {
     "name": "stdout",
     "output_type": "stream",
     "text": [
      "bob\n",
      "30\n",
      "male\n"
     ]
    }
   ],
   "source": [
    "person = ['bob', 30, 'male']\n",
    "\n",
    "name, age, gender = person\n",
    "\n",
    "print (name)\n",
    "print (age)\n",
    "print (gender)"
   ]
  },
  {
   "cell_type": "markdown",
   "id": "7c5c54ac",
   "metadata": {},
   "source": [
    "**We can use tuple unpacking to assign multiple variables at one go.**\n",
    "\n",
    "**We can add * in front of variables to unpack everything else into that variable.**"
   ]
  },
  {
   "cell_type": "code",
   "execution_count": 2,
   "id": "4ca73200",
   "metadata": {},
   "outputs": [
    {
     "name": "stdout",
     "output_type": "stream",
     "text": [
      "apple\n",
      "orange\n",
      "['pear', 'pineapple', 'durian', 'banana']\n"
     ]
    }
   ],
   "source": [
    "fruits = ['apple', 'orange', 'pear', 'pineapple', 'durian', 'banana']\n",
    "\n",
    "first, second, *others = fruits\n",
    "\n",
    "print (first)\n",
    "print (second)\n",
    "print (others)"
   ]
  },
  {
   "cell_type": "markdown",
   "id": "c0a6c1ba",
   "metadata": {},
   "source": [
    "# 2) List Comprehension + Dict/Set Comprehension"
   ]
  },
  {
   "cell_type": "code",
   "execution_count": 3,
   "id": "031cb6b3",
   "metadata": {},
   "outputs": [
    {
     "name": "stdout",
     "output_type": "stream",
     "text": [
      "[1, 2, 3]\n",
      "[2, 4, 6]\n",
      "[1, 4, 9]\n",
      "[1, 3]\n"
     ]
    }
   ],
   "source": [
    "l1 = [i for i in range(1,4)]\n",
    "print (l1)\n",
    "\n",
    "l2 = [i*2 for i in range(1,4)]\n",
    "print (l2)\n",
    "\n",
    "l3 = [i**2 for i in range(1,4)]\n",
    "print (l3)\n",
    "\n",
    "l4 = [i for i in range(1,4) if i%2==1]\n",
    "print (l4)"
   ]
  },
  {
   "cell_type": "markdown",
   "id": "f57f4581",
   "metadata": {},
   "source": [
    "**Set comprehension and dictionary comprehension can be used to create sets and dictionaries in the same way we create lists using list comprehensions.**"
   ]
  },
  {
   "cell_type": "code",
   "execution_count": 4,
   "id": "1907152c",
   "metadata": {},
   "outputs": [
    {
     "name": "stdout",
     "output_type": "stream",
     "text": [
      "{0, 1, 4, 9}\n",
      "{0, 9, 4, 1}\n",
      "{1: 1, 2: 4, 3: 9}\n"
     ]
    }
   ],
   "source": [
    "set1 = {i**2 for i in range(0,4)}\n",
    "print (set1)\n",
    "\n",
    "set2 = {i**2 for i in range(-3,4)}\n",
    "print (set2)\n",
    "\n",
    "d1 = {i:i**2 for i in range(1,4)}\n",
    "print (d1)"
   ]
  },
  {
   "cell_type": "markdown",
   "id": "6601dc9b",
   "metadata": {},
   "source": [
    "# 3) Ternary operator"
   ]
  },
  {
   "cell_type": "code",
   "execution_count": 5,
   "id": "32a66ed9",
   "metadata": {},
   "outputs": [
    {
     "name": "stdout",
     "output_type": "stream",
     "text": [
      "pass\n"
     ]
    }
   ],
   "source": [
    "score = 57\n",
    "if score > 90:\n",
    "    grade = 'A*'\n",
    "elif score > 50:\n",
    "    grade = 'pass'\n",
    "else:\n",
    "    grade = 'fail'\n",
    "    \n",
    "print (grade)"
   ]
  },
  {
   "cell_type": "markdown",
   "id": "63834392",
   "metadata": {},
   "source": [
    "**We can condense the if-elif-else block into ONE line using the ternary operator:**"
   ]
  },
  {
   "cell_type": "code",
   "execution_count": 6,
   "id": "2c9f94eb",
   "metadata": {},
   "outputs": [
    {
     "name": "stdout",
     "output_type": "stream",
     "text": [
      "pass\n"
     ]
    }
   ],
   "source": [
    "score = 57\n",
    "grade = 'A*' if score>90 else 'pass' if score>50 else 'fail'\n",
    "print (grade)"
   ]
  },
  {
   "cell_type": "markdown",
   "id": "ac5dfe09",
   "metadata": {},
   "source": [
    "# 4) Magic Methods In Python Classes"
   ]
  },
  {
   "cell_type": "markdown",
   "id": "f7933d24",
   "metadata": {},
   "source": [
    "**' __ __init__ __ '   ,   ' __ __str__ __ '    and    ' __ __gt__ __ ' are magic methods that allow us to do special things with our Dog objects.**"
   ]
  },
  {
   "cell_type": "code",
   "execution_count": 5,
   "id": "bb654af3",
   "metadata": {},
   "outputs": [
    {
     "name": "stdout",
     "output_type": "stream",
     "text": [
      "<__main__.Dog object at 0x7f8380025d30>\n",
      "rocky\n",
      "4\n"
     ]
    }
   ],
   "source": [
    "class Dog():\n",
    "    def __init__(self, name, age):\n",
    "        self.name = name\n",
    "        self.age = age\n",
    "\n",
    "\n",
    "\n",
    "dog = Dog('rocky', 4)\n",
    "print(dog)\n",
    "print(dog.name)\n",
    "print(dog.age)"
   ]
  },
  {
   "cell_type": "markdown",
   "id": "719f9791",
   "metadata": {},
   "source": [
    "**__ __str__ __ magic method defines what is returned when we call str(dog), which is called when we print the dog object.**"
   ]
  },
  {
   "cell_type": "code",
   "execution_count": 8,
   "id": "8d0601e0",
   "metadata": {},
   "outputs": [
    {
     "name": "stdout",
     "output_type": "stream",
     "text": [
      "Dog(name=rocky, age=4)\n",
      "rocky\n",
      "4\n"
     ]
    }
   ],
   "source": [
    "class Dog():\n",
    "    def __init__(self, name, age):\n",
    "        self.name = name\n",
    "        self.age = age\n",
    "\n",
    "    def __str__(self):\n",
    "        return f'Dog(name={self.name}, age={self.age})'\n",
    "\n",
    "\n",
    "\n",
    "dog = Dog('rocky', 4)\n",
    "print(dog)\n",
    "print(dog.name)\n",
    "print(dog.age)"
   ]
  },
  {
   "cell_type": "markdown",
   "id": "26e65b12",
   "metadata": {},
   "source": [
    "**__ __gt__ __ magic method defines what happens when we compare 2 dogs using the > operator.**"
   ]
  },
  {
   "cell_type": "code",
   "execution_count": 7,
   "id": "eb9efc0c",
   "metadata": {},
   "outputs": [
    {
     "name": "stdout",
     "output_type": "stream",
     "text": [
      "gt >\n",
      "True \n",
      "\n",
      "lt <\n",
      "True \n",
      "\n",
      "False\n"
     ]
    }
   ],
   "source": [
    "class Dog():\n",
    "    def __init__(self, name, age):\n",
    "        self.name = name\n",
    "        self.age = age\n",
    "\n",
    "    def __str__(self):\n",
    "        return f'Dog(name={self.name}, age={self.age})'\n",
    "\n",
    "    def __gt__(self, otherDog):\n",
    "        print ('gt >')\n",
    "        return self.age > otherDog.age\n",
    "    \n",
    "    def __lt__(self, otherDog):\n",
    "        print ('lt <')\n",
    "        return self.age < otherDog.age\n",
    "\n",
    "dog1 = Dog('rocky', 4)\n",
    "dog2 = Dog('fifi', 2)\n",
    "\n",
    "print(dog1 > dog2,'\\n')\n",
    "print(dog2 < dog1,'\\n')\n",
    "print(dog1 == dog2) "
   ]
  },
  {
   "cell_type": "markdown",
   "id": "a9a059ad",
   "metadata": {},
   "source": [
    "# 5) *args and **kwargs"
   ]
  },
  {
   "cell_type": "markdown",
   "id": "b5368c4b",
   "metadata": {},
   "source": [
    "***args allow our functions to take in any number of positional arguments (which will be stored in a tuple args).**"
   ]
  },
  {
   "cell_type": "code",
   "execution_count": 10,
   "id": "d0603d00",
   "metadata": {},
   "outputs": [
    {
     "name": "stdout",
     "output_type": "stream",
     "text": [
      "a=1, b=2, args=(3, 4, 5)\n"
     ]
    }
   ],
   "source": [
    "def test(a, b, *args):\n",
    "    print(f'{a=}, {b=}, {args=}')\n",
    "\n",
    "test(1,2,3,4,5)"
   ]
  },
  {
   "cell_type": "markdown",
   "id": "94bee593",
   "metadata": {},
   "source": [
    "****kwargs allow our functions to take in any number of keyword arguments (which will be stored in a dict kwargs).**"
   ]
  },
  {
   "cell_type": "code",
   "execution_count": 11,
   "id": "c0d5616c",
   "metadata": {},
   "outputs": [
    {
     "name": "stdout",
     "output_type": "stream",
     "text": [
      "a=1, b=2, kwargs={'c': 3, 'd': 4}\n"
     ]
    }
   ],
   "source": [
    "def test(a, b, **kwargs):\n",
    "    print(f'{a=}, {b=}, {kwargs=}')\n",
    "\n",
    "test(a=1, b=2, c=3, d=4)"
   ]
  },
  {
   "cell_type": "code",
   "execution_count": 12,
   "id": "6f7d3249",
   "metadata": {},
   "outputs": [
    {
     "name": "stdout",
     "output_type": "stream",
     "text": [
      "a=1, b=2, args=(3, 4), kwargs={'c': 5, 'd': 6}\n"
     ]
    }
   ],
   "source": [
    "def test(a, b, *args, **kwargs):\n",
    "    print(f'{a=}, {b=}, {args=}, {kwargs=}')\n",
    "\n",
    "test(1, 2, 3, 4, c=5, d=6)"
   ]
  },
  {
   "cell_type": "markdown",
   "id": "ea18687f",
   "metadata": {},
   "source": [
    "# 6) Working with multiple .py files"
   ]
  },
  {
   "cell_type": "markdown",
   "id": "d821f9d6",
   "metadata": {},
   "source": [
    "**To get familiar with how to import functions from other files.**"
   ]
  },
  {
   "cell_type": "code",
   "execution_count": null,
   "id": "728e8b4c",
   "metadata": {},
   "outputs": [],
   "source": [
    "# create \"helper.py\" with following contents:\n",
    "'''\n",
    "def test123():\n",
    "    print('test123 is called from helper.py')\n",
    "    '''\n",
    "\n",
    "# \"helper.py\" file already present in repo"
   ]
  },
  {
   "cell_type": "code",
   "execution_count": 13,
   "id": "d52c0527",
   "metadata": {},
   "outputs": [
    {
     "name": "stdout",
     "output_type": "stream",
     "text": [
      "test123 is called from helper.py\n"
     ]
    }
   ],
   "source": [
    "from helper import test123\n",
    "\n",
    "test123()"
   ]
  },
  {
   "cell_type": "markdown",
   "id": "951eb78c",
   "metadata": {},
   "source": [
    "# 7) if __name__ == ‘__main__’"
   ]
  },
  {
   "cell_type": "markdown",
   "id": "37e65f66",
   "metadata": {},
   "source": [
    "**A Python programme uses the condition if __name__ == '__main__' to only run the code inside the if statement when the program is run directly by the Python interpreter. The code inside the if statement is not executed when the file's code is imported as a module.**"
   ]
  },
  {
   "cell_type": "code",
   "execution_count": null,
   "id": "026864b8",
   "metadata": {},
   "outputs": [],
   "source": [
    "# create \"helper1.py\" with following contents:\n",
    "'''\n",
    "def test123():\n",
    "    print (\"__name__:\",__name__)\n",
    "    print('test123 is called from helper.py')\n",
    "\n",
    "\n",
    "if __name__ == '__main__':\n",
    "    # this line only runs if we run helper.py DIRECTLY\n",
    "    test123()\n",
    "    print('print statement from helper.py directly')\n",
    "    '''\n",
    "\n",
    "# \"helper1.py\" file already present in repo"
   ]
  },
  {
   "cell_type": "markdown",
   "id": "d4892df5",
   "metadata": {},
   "source": [
    "**One gets the following output when one runs 'helper1.py' on the terminal using 'python helper1.py':**\n",
    "\n",
    "__ name __ : __ main __\n",
    "\n",
    "test123 is called from helper.py\n",
    "\n",
    "print statement from helper.py directly\n",
    "\n",
    "**Checkout when we run the call the same file as module:**"
   ]
  },
  {
   "cell_type": "code",
   "execution_count": 1,
   "id": "fefa34fa",
   "metadata": {},
   "outputs": [
    {
     "name": "stdout",
     "output_type": "stream",
     "text": [
      "__name__: helper1\n",
      "test123 is called from helper.py\n"
     ]
    }
   ],
   "source": [
    "from helper1 import *\n",
    "\n",
    "test123()"
   ]
  },
  {
   "cell_type": "markdown",
   "id": "dd7e7ebc",
   "metadata": {},
   "source": [
    "# 8) Truthy & falsy values"
   ]
  },
  {
   "cell_type": "code",
   "execution_count": 2,
   "id": "5f8b9b69",
   "metadata": {},
   "outputs": [
    {
     "name": "stdout",
     "output_type": "stream",
     "text": [
      "this prints 1\n",
      "this prints 2\n",
      "this prints 100\n",
      "this prints -1\n",
      "this prints 3.14\n"
     ]
    }
   ],
   "source": [
    "# 0 if falsy, and evaluates to False\n",
    "if 0: print('this wont print 0')\n",
    "\n",
    "# non-zero numbers are truthy, and evaluate to True\n",
    "if 1: print('this prints 1')\n",
    "if 2: print('this prints 2')\n",
    "if 100: print('this prints 100')\n",
    "if -1: print('this prints -1')\n",
    "if 3.14: print('this prints 3.14')"
   ]
  },
  {
   "cell_type": "code",
   "execution_count": 3,
   "id": "db149d26",
   "metadata": {},
   "outputs": [
    {
     "name": "stdout",
     "output_type": "stream",
     "text": [
      "this prints a\n",
      "this prints [1]\n",
      "this prints {2:3}\n",
      "this prints {1,2}\n"
     ]
    }
   ],
   "source": [
    "# empty sequences are falsy, and evaluate to False\n",
    "if '': print('this wont print')\n",
    "if []: print('this wont print')\n",
    "if {}: print('this wont print')\n",
    "if set(): print('this wont print')\n",
    "\n",
    "# non-empty sequences are truthy, and evaluate to True\n",
    "if 'a': print('this prints a')\n",
    "if [1]: print('this prints [1]')\n",
    "if {2:3}: print('this prints {2:3}')\n",
    "if {1,2}: print('this prints {1,2}')"
   ]
  },
  {
   "cell_type": "code",
   "execution_count": 9,
   "id": "b7672d23",
   "metadata": {},
   "outputs": [
    {
     "name": "stdout",
     "output_type": "stream",
     "text": [
      "this prints dog\n"
     ]
    }
   ],
   "source": [
    "# None is falsy, and evaluates to False\n",
    "obj = None\n",
    "if obj: print('this wont print')\n",
    "\n",
    "# objects are truthy, and evaluates to True\n",
    "obj = Dog('Kukur',10)\n",
    "if obj: print('this prints dog')"
   ]
  },
  {
   "cell_type": "markdown",
   "id": "8d79dfb6",
   "metadata": {},
   "source": [
    "# 9) break vs continue vs pass"
   ]
  },
  {
   "cell_type": "markdown",
   "id": "e8589d91",
   "metadata": {},
   "source": [
    "**break stops the for/while loop entirely. No other iteration happens.**"
   ]
  },
  {
   "cell_type": "code",
   "execution_count": 10,
   "id": "38ca54ec",
   "metadata": {},
   "outputs": [
    {
     "name": "stdout",
     "output_type": "stream",
     "text": [
      "1\n",
      "2\n"
     ]
    }
   ],
   "source": [
    "for i in [1,2,3,4,5]:\n",
    "    if i == 3:\n",
    "        break\n",
    "\n",
    "    print(i)"
   ]
  },
  {
   "cell_type": "markdown",
   "id": "0305b98f",
   "metadata": {},
   "source": [
    "**continue skips ONE iteration. Other iterations still happen afterwards.**"
   ]
  },
  {
   "cell_type": "code",
   "execution_count": 11,
   "id": "252227d7",
   "metadata": {},
   "outputs": [
    {
     "name": "stdout",
     "output_type": "stream",
     "text": [
      "1\n",
      "2\n",
      "4\n",
      "5\n"
     ]
    }
   ],
   "source": [
    "for i in [1,2,3,4,5]:\n",
    "    if i == 3:\n",
    "        continue\n",
    "\n",
    "    print(i)"
   ]
  },
  {
   "cell_type": "markdown",
   "id": "47fd1c23",
   "metadata": {},
   "source": [
    "**pass does absolutely nothing.**"
   ]
  },
  {
   "cell_type": "code",
   "execution_count": 12,
   "id": "c0d8521f",
   "metadata": {},
   "outputs": [
    {
     "name": "stdout",
     "output_type": "stream",
     "text": [
      "1\n",
      "2\n",
      "3\n",
      "4\n",
      "5\n"
     ]
    }
   ],
   "source": [
    "for i in [1,2,3,4,5]:\n",
    "    if i == 3:\n",
    "        pass\n",
    "\n",
    "    print(i)"
   ]
  },
  {
   "cell_type": "code",
   "execution_count": 14,
   "id": "87f757be",
   "metadata": {},
   "outputs": [
    {
     "name": "stdout",
     "output_type": "stream",
     "text": [
      "2\n",
      "4\n",
      "6\n",
      "10\n"
     ]
    }
   ],
   "source": [
    "lst1 = [1,2,3,'a',5]\n",
    "lst2 = [1,2,3,4,5]\n",
    "for i in range(len(lst1)):\n",
    "    try:\n",
    "        print(lst1[i]+lst2[i])\n",
    "    except:\n",
    "        pass"
   ]
  },
  {
   "cell_type": "markdown",
   "id": "6d485f6d",
   "metadata": {},
   "source": [
    "# 10) try except finally blocks"
   ]
  },
  {
   "cell_type": "markdown",
   "id": "5f49f57e",
   "metadata": {},
   "source": [
    "**try-except-finally blocks allow us to handle stuff when errors and exceptions happen in our code (instead of just crashing)**"
   ]
  },
  {
   "cell_type": "code",
   "execution_count": 15,
   "id": "de68a2bf",
   "metadata": {},
   "outputs": [
    {
     "name": "stdout",
     "output_type": "stream",
     "text": [
      "2\n",
      "4\n",
      "6\n",
      "addition error\n",
      "10\n"
     ]
    }
   ],
   "source": [
    "lst1 = [1,2,3,'a',5]\n",
    "lst2 = [1,2,3,4,5]\n",
    "for i in range(len(lst1)):\n",
    "    j=0\n",
    "    try:\n",
    "        print(lst1[i]+lst2[i])\n",
    "    except:\n",
    "        j=1\n",
    "    finally:\n",
    "        if j:\n",
    "            print (\"addition error\")"
   ]
  },
  {
   "cell_type": "markdown",
   "id": "a1a32217",
   "metadata": {},
   "source": [
    "# 11) Decorators"
   ]
  },
  {
   "cell_type": "markdown",
   "id": "aedfa605",
   "metadata": {},
   "source": [
    "Decorators are functions that\n",
    "\n",
    "1) take in another function\n",
    "\n",
    "2) tweak how the functio works and\n",
    "\n",
    "3) return another function.\n",
    "\n",
    "When we put @add_exclamation_mark above the greet function, we are actually decorating the greet function, and changing how the greet function works."
   ]
  },
  {
   "cell_type": "code",
   "execution_count": 16,
   "id": "340e7aee",
   "metadata": {},
   "outputs": [
    {
     "data": {
      "text/plain": [
       "'hello Jitendra!'"
      ]
     },
     "execution_count": 16,
     "metadata": {},
     "output_type": "execute_result"
    }
   ],
   "source": [
    "def add_exclamation_mark(your_function):\n",
    "    def inner(*args, **kwargs):\n",
    "        return your_function(*args, **kwargs) + '!'\n",
    "    return inner\n",
    "\n",
    "@add_exclamation_mark\n",
    "def greet(name):\n",
    "    return f'hello {name}'\n",
    "\n",
    "greet('Jitendra')"
   ]
  },
  {
   "cell_type": "markdown",
   "id": "39e5e299",
   "metadata": {},
   "source": [
    "**Due to our decorator, our greet function behaves differently, and now has an additional ! after its returned value.**"
   ]
  },
  {
   "cell_type": "markdown",
   "id": "96f256bd",
   "metadata": {},
   "source": [
    "**Another example:**"
   ]
  },
  {
   "cell_type": "code",
   "execution_count": 33,
   "id": "b664e8ee",
   "metadata": {},
   "outputs": [
    {
     "name": "stdout",
     "output_type": "stream",
     "text": [
      "sum:  7\n",
      "Numbers:  3 4\n"
     ]
    }
   ],
   "source": [
    "def summation(your_function):\n",
    "    def inner(*args, **kwargs):\n",
    "        print (\"sum: \", sum(args))\n",
    "        return your_function(*args, **kwargs)\n",
    "    return inner\n",
    "\n",
    "@summation\n",
    "def print_nos(*args):\n",
    "    print (\"Numbers: \",*args)\n",
    "\n",
    "print_nos(3,4)"
   ]
  },
  {
   "cell_type": "markdown",
   "id": "dc3289d8",
   "metadata": {},
   "source": [
    "# 12) Generators + the ‘yield’ Keyword"
   ]
  },
  {
   "cell_type": "markdown",
   "id": "97eca001",
   "metadata": {},
   "source": [
    "**The yield keyword is like the return keyword. Except that the function does not stop completely after yielding something.**\n",
    "\n",
    "**A function that contains the yield keyword becomes a generator function, and can have multiple outputs (the stuff that are yielded).**"
   ]
  },
  {
   "cell_type": "code",
   "execution_count": 38,
   "id": "71ac0f14",
   "metadata": {},
   "outputs": [
    {
     "name": "stdout",
     "output_type": "stream",
     "text": [
      "<generator object simple_generator at 0x7f837a21e270> \n",
      "\n",
      "apple\n",
      "orange\n",
      "pear\n"
     ]
    }
   ],
   "source": [
    "def simple_generator():\n",
    "    yield 'apple'\n",
    "    yield 'orange'\n",
    "    yield 'pear'\n",
    "\n",
    "print (simple_generator(),'\\n')\n",
    "\n",
    "for fruit in simple_generator():\n",
    "    print(fruit)"
   ]
  },
  {
   "cell_type": "markdown",
   "id": "51d09c4e",
   "metadata": {},
   "source": [
    "# 13) Method chaining"
   ]
  },
  {
   "cell_type": "markdown",
   "id": "7d6a645d",
   "metadata": {},
   "source": [
    "**called 'Function cascading' in C or C++.**"
   ]
  },
  {
   "cell_type": "code",
   "execution_count": 39,
   "id": "34237e82",
   "metadata": {},
   "outputs": [
    {
     "data": {
      "text/plain": [
       "['apple', 'orange', 'pear']"
      ]
     },
     "execution_count": 39,
     "metadata": {},
     "output_type": "execute_result"
    }
   ],
   "source": [
    "s = ' APPLE ORANGE PEAR '\n",
    "s = s.strip()    # s is now 'APPLE ORANGE PEAR'\n",
    "s = s.lower()    # s is now 'apple orange pear'\n",
    "s = s.split()    # s is now ['apple', 'orange', 'pear']\n",
    "s"
   ]
  },
  {
   "cell_type": "markdown",
   "id": "56c37d29",
   "metadata": {},
   "source": [
    "**We can chain multiple methods together in one line to save ourselves a few lines of code.**"
   ]
  },
  {
   "cell_type": "code",
   "execution_count": 40,
   "id": "3cef037c",
   "metadata": {},
   "outputs": [
    {
     "data": {
      "text/plain": [
       "['apple', 'orange', 'pear']"
      ]
     },
     "execution_count": 40,
     "metadata": {},
     "output_type": "execute_result"
    }
   ],
   "source": [
    "s = ' APPLE ORANGE PEAR '\n",
    "s = s.strip().lower().split()\n",
    "s"
   ]
  },
  {
   "cell_type": "markdown",
   "id": "014d585c",
   "metadata": {},
   "source": [
    "# 14) Different data structures & when to use them"
   ]
  },
  {
   "cell_type": "code",
   "execution_count": 41,
   "id": "b113a48e",
   "metadata": {},
   "outputs": [],
   "source": [
    "# ordered collection of elements\n",
    "list1 = [1,2,3]\n",
    "\n",
    "# an immutable list. we can use this as a dict key\n",
    "tuple1 = (1,2,3)\n",
    "\n",
    "# O(1) when accessing a value using a key\n",
    "dict1 = {'apple':4, 'orange':5}\n",
    "\n",
    "# unordered collection containing only unique elements\n",
    "# O(1) when checking if element exists inside a set\n",
    "set1 = {1,2,3}\n",
    "\n",
    "# an immutable set. we can use this as a dict key\n",
    "frozenset1 = frozenset({1,2,3})"
   ]
  },
  {
   "cell_type": "code",
   "execution_count": 43,
   "id": "2e3b865a",
   "metadata": {},
   "outputs": [
    {
     "ename": "TypeError",
     "evalue": "'set' object is not subscriptable",
     "output_type": "error",
     "traceback": [
      "\u001b[0;31m---------------------------------------------------------------------------\u001b[0m",
      "\u001b[0;31mTypeError\u001b[0m                                 Traceback (most recent call last)",
      "\u001b[0;32m/var/folders/jz/6flycs1d0l3fgjsmskmy1w5r0000gn/T/ipykernel_46517/2192818838.py\u001b[0m in \u001b[0;36m<module>\u001b[0;34m\u001b[0m\n\u001b[1;32m      1\u001b[0m \u001b[0;31m## gives error as sets are unordered\u001b[0m\u001b[0;34m\u001b[0m\u001b[0;34m\u001b[0m\u001b[0m\n\u001b[0;32m----> 2\u001b[0;31m \u001b[0mset1\u001b[0m\u001b[0;34m[\u001b[0m\u001b[0;36m0\u001b[0m\u001b[0;34m]\u001b[0m\u001b[0;34m\u001b[0m\u001b[0;34m\u001b[0m\u001b[0m\n\u001b[0m",
      "\u001b[0;31mTypeError\u001b[0m: 'set' object is not subscriptable"
     ]
    }
   ],
   "source": [
    "## gives error as sets are unordered\n",
    "set1[0]"
   ]
  },
  {
   "cell_type": "markdown",
   "id": "b7d7e0e5",
   "metadata": {},
   "source": [
    "# 15) Lambda functions"
   ]
  },
  {
   "cell_type": "code",
   "execution_count": 44,
   "id": "a147fba8",
   "metadata": {},
   "outputs": [
    {
     "name": "stdout",
     "output_type": "stream",
     "text": [
      "11\n",
      "11\n"
     ]
    }
   ],
   "source": [
    "def add(x, y):\n",
    "    return x + y\n",
    "\n",
    "print (add(5,6))\n",
    "\n",
    "# this is the same as\n",
    "\n",
    "add = lambda x,y : x + y\n",
    "print (add(5,6))"
   ]
  },
  {
   "cell_type": "code",
   "execution_count": 45,
   "id": "9d814b70",
   "metadata": {},
   "outputs": [
    {
     "name": "stdout",
     "output_type": "stream",
     "text": [
      "hello\n",
      "hello\n"
     ]
    }
   ],
   "source": [
    "def test():\n",
    "    return 'hello'\n",
    "\n",
    "print (test())\n",
    "\n",
    "# this is the same as \n",
    "\n",
    "test = lambda : 'hello'\n",
    "print (test())"
   ]
  },
  {
   "cell_type": "code",
   "execution_count": 46,
   "id": "d875eda1",
   "metadata": {},
   "outputs": [
    {
     "name": "stdout",
     "output_type": "stream",
     "text": [
      "5.0\n",
      "5.0\n"
     ]
    }
   ],
   "source": [
    "def test2(a,b,c,d):\n",
    "    return (a+b) / (c-d)\n",
    "\n",
    "print (test2(4,6,5,3))\n",
    "\n",
    "# this is the same as\n",
    "\n",
    "test2 = lambda a,b,c,d : (a+b) / (c-d)\n",
    "print (test2(4,6,5,3))"
   ]
  },
  {
   "cell_type": "markdown",
   "id": "00f1ea07",
   "metadata": {},
   "source": [
    "# 16) assert + raise + custom exceptions"
   ]
  },
  {
   "cell_type": "markdown",
   "id": "3d09e3a7",
   "metadata": {},
   "source": [
    "**The assert keyword allows us to conduct a sanity test in the middle of our code. If score > 100, an AssertionError is raised, and our program crashes forcefully.**"
   ]
  },
  {
   "cell_type": "code",
   "execution_count": 5,
   "id": "14e54bf4",
   "metadata": {},
   "outputs": [],
   "source": [
    "score = 50\n",
    "\n",
    "assert score <= 100\n",
    "# ensuring that score cannot be above 100."
   ]
  },
  {
   "cell_type": "code",
   "execution_count": 6,
   "id": "62b73108",
   "metadata": {},
   "outputs": [
    {
     "ename": "AssertionError",
     "evalue": "",
     "output_type": "error",
     "traceback": [
      "\u001b[0;31m---------------------------------------------------------------------------\u001b[0m",
      "\u001b[0;31mAssertionError\u001b[0m                            Traceback (most recent call last)",
      "\u001b[0;32m/var/folders/jz/6flycs1d0l3fgjsmskmy1w5r0000gn/T/ipykernel_38102/1522527195.py\u001b[0m in \u001b[0;36m<module>\u001b[0;34m\u001b[0m\n\u001b[1;32m      1\u001b[0m \u001b[0;31m## generates Assertion error\u001b[0m\u001b[0;34m\u001b[0m\u001b[0;34m\u001b[0m\u001b[0m\n\u001b[1;32m      2\u001b[0m \u001b[0mscore\u001b[0m \u001b[0;34m=\u001b[0m \u001b[0;36m200\u001b[0m\u001b[0;34m\u001b[0m\u001b[0;34m\u001b[0m\u001b[0m\n\u001b[0;32m----> 3\u001b[0;31m \u001b[0;32massert\u001b[0m \u001b[0mscore\u001b[0m \u001b[0;34m<=\u001b[0m \u001b[0;36m100\u001b[0m\u001b[0;34m\u001b[0m\u001b[0;34m\u001b[0m\u001b[0m\n\u001b[0m",
      "\u001b[0;31mAssertionError\u001b[0m: "
     ]
    }
   ],
   "source": [
    "## generates Assertion error\n",
    "score = 200\n",
    "assert score <= 100"
   ]
  },
  {
   "cell_type": "markdown",
   "id": "38a1816f",
   "metadata": {},
   "source": [
    "**The raise keyword allows us to forcefully cause an Exception (we can customize the message in the Exeption too).**"
   ]
  },
  {
   "cell_type": "code",
   "execution_count": 7,
   "id": "1f0e3c12",
   "metadata": {},
   "outputs": [],
   "source": [
    "score = 50\n",
    "if score > 100:\n",
    "    raise Exception('score cannot be higher than 100')\n",
    "# ensuring that score cannot be above 100."
   ]
  },
  {
   "cell_type": "code",
   "execution_count": 9,
   "id": "c34c48e9",
   "metadata": {},
   "outputs": [
    {
     "ename": "Exception",
     "evalue": "score cannot be higher than 100",
     "output_type": "error",
     "traceback": [
      "\u001b[0;31m---------------------------------------------------------------------------\u001b[0m",
      "\u001b[0;31mException\u001b[0m                                 Traceback (most recent call last)",
      "\u001b[0;32m/var/folders/jz/6flycs1d0l3fgjsmskmy1w5r0000gn/T/ipykernel_38102/340903249.py\u001b[0m in \u001b[0;36m<module>\u001b[0;34m\u001b[0m\n\u001b[1;32m      2\u001b[0m \u001b[0mscore\u001b[0m \u001b[0;34m=\u001b[0m \u001b[0;36m200\u001b[0m\u001b[0;34m\u001b[0m\u001b[0;34m\u001b[0m\u001b[0m\n\u001b[1;32m      3\u001b[0m \u001b[0;32mif\u001b[0m \u001b[0mscore\u001b[0m \u001b[0;34m>\u001b[0m \u001b[0;36m100\u001b[0m\u001b[0;34m:\u001b[0m\u001b[0;34m\u001b[0m\u001b[0;34m\u001b[0m\u001b[0m\n\u001b[0;32m----> 4\u001b[0;31m     \u001b[0;32mraise\u001b[0m \u001b[0mException\u001b[0m\u001b[0;34m(\u001b[0m\u001b[0;34m'score cannot be higher than 100'\u001b[0m\u001b[0;34m)\u001b[0m\u001b[0;34m\u001b[0m\u001b[0;34m\u001b[0m\u001b[0m\n\u001b[0m\u001b[1;32m      5\u001b[0m \u001b[0;31m# ensuring that score cannot be above 100.\u001b[0m\u001b[0;34m\u001b[0m\u001b[0;34m\u001b[0m\u001b[0m\n",
      "\u001b[0;31mException\u001b[0m: score cannot be higher than 100"
     ]
    }
   ],
   "source": [
    "## ## generates Exception error\n",
    "score = 200\n",
    "if score > 100:\n",
    "    raise Exception('score cannot be higher than 100')\n",
    "# ensuring that score cannot be above 100."
   ]
  },
  {
   "cell_type": "markdown",
   "id": "5c85ff00",
   "metadata": {},
   "source": [
    "**We can also create our own Exception types by inheriting from the Exception class.**"
   ]
  },
  {
   "cell_type": "code",
   "execution_count": 10,
   "id": "eb28bb7f",
   "metadata": {},
   "outputs": [],
   "source": [
    "class ScoreException(Exception):\n",
    "    def __init__(self):\n",
    "        super().__init__('score cannot be higher than 100')"
   ]
  },
  {
   "cell_type": "code",
   "execution_count": 11,
   "id": "55eeb7aa",
   "metadata": {},
   "outputs": [],
   "source": [
    "score = 50\n",
    "if score > 100:\n",
    "    raise ScoreException()"
   ]
  },
  {
   "cell_type": "code",
   "execution_count": 13,
   "id": "fb5bd70c",
   "metadata": {},
   "outputs": [
    {
     "ename": "ScoreException",
     "evalue": "score cannot be higher than 100",
     "output_type": "error",
     "traceback": [
      "\u001b[0;31m---------------------------------------------------------------------------\u001b[0m",
      "\u001b[0;31mScoreException\u001b[0m                            Traceback (most recent call last)",
      "\u001b[0;32m/var/folders/jz/6flycs1d0l3fgjsmskmy1w5r0000gn/T/ipykernel_38102/845908609.py\u001b[0m in \u001b[0;36m<module>\u001b[0;34m\u001b[0m\n\u001b[1;32m      2\u001b[0m \u001b[0mscore\u001b[0m \u001b[0;34m=\u001b[0m \u001b[0;36m200\u001b[0m\u001b[0;34m\u001b[0m\u001b[0;34m\u001b[0m\u001b[0m\n\u001b[1;32m      3\u001b[0m \u001b[0;32mif\u001b[0m \u001b[0mscore\u001b[0m \u001b[0;34m>\u001b[0m \u001b[0;36m100\u001b[0m\u001b[0;34m:\u001b[0m\u001b[0;34m\u001b[0m\u001b[0;34m\u001b[0m\u001b[0m\n\u001b[0;32m----> 4\u001b[0;31m     \u001b[0;32mraise\u001b[0m \u001b[0mScoreException\u001b[0m\u001b[0;34m(\u001b[0m\u001b[0;34m)\u001b[0m\u001b[0;34m\u001b[0m\u001b[0;34m\u001b[0m\u001b[0m\n\u001b[0m",
      "\u001b[0;31mScoreException\u001b[0m: score cannot be higher than 100"
     ]
    }
   ],
   "source": [
    "## generate custom \"ScoreException\"\n",
    "score = 200\n",
    "if score > 100:\n",
    "    raise ScoreException()"
   ]
  },
  {
   "cell_type": "markdown",
   "id": "f24d52a4",
   "metadata": {},
   "source": [
    "# 17) Multiprocessing in Python"
   ]
  },
  {
   "cell_type": "markdown",
   "id": "fdbba5fc",
   "metadata": {},
   "source": [
    "**The built-in multiprocessing module in Python allows us to run more than 1 function concurrently (at the same time).**"
   ]
  },
  {
   "cell_type": "code",
   "execution_count": null,
   "id": "a2f45b99",
   "metadata": {},
   "outputs": [],
   "source": [
    "## copy below contents to a python file and run it\n",
    "'''\n",
    "import multiprocessing\n",
    "import time\n",
    "import datetime\n",
    "\n",
    "def yourfunction(x):\n",
    "    start = datetime.datetime.now()\n",
    "    time.sleep(1)\n",
    "    end = datetime.datetime.now()\n",
    "    return f'x={x} start at {start}, end at {end}'\n",
    "\n",
    "if __name__ == '__main__':\n",
    "    with multiprocessing.Pool(processes=3) as pool:\n",
    "        data = pool.map(yourfunction, [1, 2, 3, 4, 5, 6, 7])\n",
    "\n",
    "    for row in data:\n",
    "        print(row)\n",
    "        '''\n",
    "## a file 'multi_thread_test.py' exists with same contents"
   ]
  },
  {
   "cell_type": "markdown",
   "id": "3ebcc915",
   "metadata": {},
   "source": [
    "**Run the file using 'python multi_thread_test.py'. Below is a sample output:**\n",
    "\n",
    "x=1 start at 2023-05-09 19:32:23.172936, end at 2023-05-09 19:32:24.177975\n",
    "\n",
    "x=2 start at 2023-05-09 19:32:23.172993, end at 2023-05-09 19:32:24.177970\n",
    "\n",
    "x=3 start at 2023-05-09 19:32:23.175115, end at 2023-05-09 19:32:24.178039\n",
    "\n",
    "x=4 start at 2023-05-09 19:32:24.179122, end at 2023-05-09 19:32:25.181216\n",
    "\n",
    "x=5 start at 2023-05-09 19:32:24.179314, end at 2023-05-09 19:32:25.184286\n",
    "\n",
    "x=6 start at 2023-05-09 19:32:24.179453, end at 2023-05-09 19:32:25.184402\n",
    "\n",
    "x=7 start at 2023-05-09 19:32:25.182060, end at 2023-05-09 19:32:26.187043"
   ]
  },
  {
   "cell_type": "markdown",
   "id": "d18c0c2f",
   "metadata": {},
   "source": [
    "**Here, code runs 3 functions concurrently (each by 1 worker)**\n",
    "\n",
    "**>yourfunction(1), yourfunction(2) & yourfunction(3) run at the same time.**\n",
    "\n",
    "**>yourfunction(4), yourfunction(5) & yourfunction(6) run at the same time also.**\n",
    "\n",
    "**>yourfunction(7) runs on its own**"
   ]
  },
  {
   "cell_type": "code",
   "execution_count": null,
   "id": "b5050d69",
   "metadata": {},
   "outputs": [],
   "source": [
    "## if above seems complex, put these in a python file instead:\n",
    "'''\n",
    "import multiprocessing\n",
    "import time\n",
    "import datetime\n",
    "\n",
    "def yourfunction(x):\n",
    "    print ('yourfunction getting excuted at ',datetime.datetime.now())\n",
    "    time.sleep(1)\n",
    "    return True\n",
    "\n",
    "if __name__ == '__main__':\n",
    "    with multiprocessing.Pool(processes=3) as pool:\n",
    "        data = pool.map(yourfunction, [1, 2, 3, 4, 5, 6, 7])\n",
    "        '''\n",
    "## a file 'multi_thread_test_simple.py' exists with same contents\n",
    "\n",
    "#### sample output:\n",
    "# yourfunction getting excuted at  2023-05-09 19:55:53.814954\n",
    "# yourfunction getting excuted at  2023-05-09 19:55:53.815006\n",
    "# yourfunction getting excuted at  2023-05-09 19:55:53.817261\n",
    "# yourfunction getting excuted at  2023-05-09 19:55:54.820865\n",
    "# yourfunction getting excuted at  2023-05-09 19:55:54.821035\n",
    "# yourfunction getting excuted at  2023-05-09 19:55:54.821201\n",
    "# yourfunction getting excuted at  2023-05-09 19:55:55.826604"
   ]
  },
  {
   "cell_type": "code",
   "execution_count": null,
   "id": "89e99584",
   "metadata": {},
   "outputs": [],
   "source": [
    "## Reference:\n",
    "## https://levelup.gitconnected.com/20-python-concepts-i-wish-i-knew-way-earlier-573cd189c183\n",
    "## skipped 11, 15, 16"
   ]
  }
 ],
 "metadata": {
  "kernelspec": {
   "display_name": "Python 3 (ipykernel)",
   "language": "python",
   "name": "python3"
  },
  "language_info": {
   "codemirror_mode": {
    "name": "ipython",
    "version": 3
   },
   "file_extension": ".py",
   "mimetype": "text/x-python",
   "name": "python",
   "nbconvert_exporter": "python",
   "pygments_lexer": "ipython3",
   "version": "3.9.13"
  }
 },
 "nbformat": 4,
 "nbformat_minor": 5
}
