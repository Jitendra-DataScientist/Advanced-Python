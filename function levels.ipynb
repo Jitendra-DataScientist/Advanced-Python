{
 "cells": [
  {
   "cell_type": "code",
   "execution_count": 30,
   "id": "3f1c6155",
   "metadata": {},
   "outputs": [
    {
     "data": {
      "text/plain": [
       "120"
      ]
     },
     "execution_count": 30,
     "metadata": {},
     "output_type": "execute_result"
    }
   ],
   "source": [
    "# recursive lambda\n",
    "factorial = lambda x: x if x<=1 else x*factorial(x-1)\n",
    "factorial(5)"
   ]
  },
  {
   "cell_type": "code",
   "execution_count": 32,
   "id": "96f762f3",
   "metadata": {},
   "outputs": [
    {
     "name": "stdout",
     "output_type": "stream",
     "text": [
      "11\n",
      "15\n"
     ]
    }
   ],
   "source": [
    "# default arguments in functions\n",
    "def sum1(a,b=5):return a+b\n",
    "\n",
    "print (sum1(6))\n",
    "print (sum1(7,8))"
   ]
  },
  {
   "cell_type": "code",
   "execution_count": 35,
   "id": "80cad9af",
   "metadata": {},
   "outputs": [
    {
     "name": "stdout",
     "output_type": "stream",
     "text": [
      "hello ('x',)\n",
      "hello ('x', 'y', 'z')\n"
     ]
    }
   ],
   "source": [
    "# * before a parmeter makes the parameter a tuple\n",
    "def greet(*names):\n",
    "    print(\"hello\",names)\n",
    "    \n",
    "greet('x')\n",
    "greet('x','y','z')\n"
   ]
  },
  {
   "cell_type": "code",
   "execution_count": 37,
   "id": "04fa6e1e",
   "metadata": {},
   "outputs": [
    {
     "name": "stdout",
     "output_type": "stream",
     "text": [
      "{}\n",
      "{'a': 4}\n",
      "{'a': 4, 'b': 5}\n"
     ]
    }
   ],
   "source": [
    "# ** before a parameter makes the parameter a dictionary\n",
    "def test(**kwargs):\n",
    "    print(kwargs)\n",
    "\n",
    "test()\n",
    "test(a=4)\n",
    "test(a=4,b=5)"
   ]
  },
  {
   "cell_type": "code",
   "execution_count": 39,
   "id": "f0641ac1",
   "metadata": {},
   "outputs": [
    {
     "data": {
      "text/plain": [
       "[1, 4, 9]"
      ]
     },
     "execution_count": 39,
     "metadata": {},
     "output_type": "execute_result"
    }
   ],
   "source": [
    "# passing function as argument to another function\n",
    "\n",
    "def transform(lst,function):\n",
    "    output=[]\n",
    "    for x in lst:\n",
    "        n = function(x)\n",
    "        output.append(n)\n",
    "    return output\n",
    "\n",
    "def sqr(x):return x**2\n",
    "\n",
    "transform([1,2,3],sqr)"
   ]
  },
  {
   "cell_type": "code",
   "execution_count": 7,
   "id": "9972e247",
   "metadata": {},
   "outputs": [
    {
     "name": "stdout",
     "output_type": "stream",
     "text": [
      "hello Arun!\n"
     ]
    }
   ],
   "source": [
    "# decorator - a function that returns another function\n",
    "\n",
    "def add_exclamation(function):\n",
    "    def inner (*args):\n",
    "        return function(*args) + '!'\n",
    "    return inner\n",
    "\n",
    "@add_exclamation\n",
    "def greet(name):\n",
    "    return 'hello '+name\n",
    "    \n",
    "print(greet('Arun'))\n",
    "\n",
    "# The add_exclamation function is known as a decorator — it takes in a function, does some stuff to the output of the\n",
    "# original function, and returns a new function with additional capability."
   ]
  },
  {
   "cell_type": "code",
   "execution_count": 9,
   "id": "10a17fb6",
   "metadata": {},
   "outputs": [
    {
     "name": "stdout",
     "output_type": "stream",
     "text": [
      "hello bob !!!\n"
     ]
    }
   ],
   "source": [
    "# decorator - a function that returns another function that returns another function\n",
    "\n",
    "def add(char):\n",
    "    def decorator(function):\n",
    "        def inner(*args):\n",
    "            return function(*args) + char\n",
    "        return inner\n",
    "    return decorator\n",
    "\n",
    "\n",
    "@add(\" !!!\")\n",
    "def greet(name):\n",
    "    return \"hello \" + name\n",
    "x = greet(\"bob\")\n",
    "print(x)\n",
    "\n",
    "# Here, calling the add function returns a decorator function. In this exact case, we pass a string char to the add\n",
    "# function. The decorator that is returned adds char to the back of whatever function it decorates."
   ]
  },
  {
   "cell_type": "code",
   "execution_count": null,
   "id": "97b48ca7",
   "metadata": {},
   "outputs": [],
   "source": []
  }
 ],
 "metadata": {
  "kernelspec": {
   "display_name": "Python 3 (ipykernel)",
   "language": "python",
   "name": "python3"
  },
  "language_info": {
   "codemirror_mode": {
    "name": "ipython",
    "version": 3
   },
   "file_extension": ".py",
   "mimetype": "text/x-python",
   "name": "python",
   "nbconvert_exporter": "python",
   "pygments_lexer": "ipython3",
   "version": "3.9.13"
  }
 },
 "nbformat": 4,
 "nbformat_minor": 5
}
